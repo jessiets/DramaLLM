{
 "cells": [
  {
   "cell_type": "code",
   "execution_count": 2,
   "metadata": {},
   "outputs": [],
   "source": [
    "import requests\n",
    "from api_keys import TMDB_API_KEY\n",
    "\n",
    "# setups\n",
    "BASE_URL = \"https://api.themoviedb.org/3\"\n",
    "HEADERS = {\n",
    "    \"accept\": \"application/json\",\n",
    "    \"Authorization\": f\"Bearer {TMDB_API_KEY}\"\n",
    "}"
   ]
  },
  {
   "cell_type": "code",
   "execution_count": null,
   "metadata": {},
   "outputs": [],
   "source": [
    "def get_languages():\n",
    "    url = f\"{BASE_URL}/configuration/languages\"\n",
    "    response = requests.get(url, headers=HEADERS)\n",
    "    return response.json()\n",
    "\n",
    "language_list = get_languages()\n",
    "language_list"
   ]
  },
  {
   "cell_type": "code",
   "execution_count": null,
   "metadata": {},
   "outputs": [
    {
     "data": {
      "text/plain": [
       "[{'id': 10759, 'name': 'Action & Adventure'},\n",
       " {'id': 16, 'name': 'Animation'},\n",
       " {'id': 35, 'name': 'Comedy'},\n",
       " {'id': 80, 'name': 'Crime'},\n",
       " {'id': 99, 'name': 'Documentary'},\n",
       " {'id': 18, 'name': 'Drama'},\n",
       " {'id': 10751, 'name': 'Family'},\n",
       " {'id': 10762, 'name': 'Kids'},\n",
       " {'id': 9648, 'name': 'Mystery'},\n",
       " {'id': 10763, 'name': 'News'},\n",
       " {'id': 10764, 'name': 'Reality'},\n",
       " {'id': 10765, 'name': 'Sci-Fi & Fantasy'},\n",
       " {'id': 10766, 'name': 'Soap'},\n",
       " {'id': 10767, 'name': 'Talk'},\n",
       " {'id': 10768, 'name': 'War & Politics'},\n",
       " {'id': 37, 'name': 'Western'}]"
      ]
     },
     "execution_count": 4,
     "metadata": {},
     "output_type": "execute_result"
    }
   ],
   "source": [
    "def get_genres():\n",
    "    url = f\"{BASE_URL}/genre/tv/list?language=en\"\n",
    "    response = requests.get(url, headers=HEADERS)\n",
    "    return response.json()[\"genres\"]\n",
    "\n",
    "genre_list = get_genres()\n",
    "genre_list"
   ]
  },
  {
   "cell_type": "code",
   "execution_count": 67,
   "metadata": {},
   "outputs": [
    {
     "name": "stdout",
     "output_type": "stream",
     "text": [
      "400\n"
     ]
    }
   ],
   "source": [
    "def get_netflix_kdramas_cdramas(lang=\"\", region='US', page=\"1\"):\n",
    "    url = f\"{BASE_URL}/discover/tv\"\n",
    "    params = {\n",
    "        \"with_watch_providers\": \"8\",  # Netflix\n",
    "        \"watch_region\": region,\n",
    "        \"sort_by\": \"popularity.desc\",\n",
    "        \"with_original_language\": lang,\n",
    "        \"page\": page\n",
    "    }\n",
    "    response = requests.get(url, headers=HEADERS, params=params)\n",
    "    return response.json().get(\"results\", [])\n",
    "\n",
    "kdrama_list = []\n",
    "for i in range(0, 15):\n",
    "    kdrama_list += get_netflix_kdramas_cdramas(\"ko\")\n",
    "# print(len(kdrama_list))\n",
    "\n",
    "cdrama_list = []\n",
    "for i in range(0, 5):\n",
    "    cdrama_list += get_netflix_kdramas_cdramas(\"zh\")\n",
    "# print(len(cdrama_list))\n",
    "\n",
    "drama_list = kdrama_list + cdrama_list\n",
    "print(len(drama_list))"
   ]
  },
  {
   "cell_type": "code",
   "execution_count": 68,
   "metadata": {},
   "outputs": [],
   "source": [
    "import json\n",
    "json.dump(drama_list, open('data/drama_list.json', 'w'))"
   ]
  }
 ],
 "metadata": {
  "kernelspec": {
   "display_name": "Python 3",
   "language": "python",
   "name": "python3"
  },
  "language_info": {
   "codemirror_mode": {
    "name": "ipython",
    "version": 3
   },
   "file_extension": ".py",
   "mimetype": "text/x-python",
   "name": "python",
   "nbconvert_exporter": "python",
   "pygments_lexer": "ipython3",
   "version": "3.9.7"
  }
 },
 "nbformat": 4,
 "nbformat_minor": 2
}
