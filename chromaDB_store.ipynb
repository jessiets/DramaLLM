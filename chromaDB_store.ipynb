{
 "cells": [
  {
   "cell_type": "code",
   "execution_count": 4,
   "metadata": {},
   "outputs": [
    {
     "data": {
      "text/plain": [
       "'War & Politics'"
      ]
     },
     "execution_count": 4,
     "metadata": {},
     "output_type": "execute_result"
    }
   ],
   "source": [
    "genre_map = {}\n",
    "genre_map['10759'] = 'Action & Adventure'\n",
    "genre_map['16'] = 'Animation'\n",
    "genre_map['35'] = 'Comedy'\n",
    "genre_map['80'] = 'Crime'\n",
    "genre_map['99'] = 'Documentary'\n",
    "genre_map['18'] = 'Drama'\n",
    "genre_map['10751'] = 'Family'\n",
    "genre_map['10762'] = 'Kids'\n",
    "genre_map['9648'] = 'Mystery'\n",
    "genre_map['10763'] = 'News'\n",
    "genre_map['10764'] = 'Reality'\n",
    "genre_map['10765'] = 'Sci-Fi & Fantasy'\n",
    "genre_map['10766'] = 'Soap'\n",
    "genre_map['10767'] = 'Talk'\n",
    "genre_map['10768'] = 'War & Politics'\n",
    "genre_map['37'] = 'Western'\n",
    "\n",
    "n = '10768'\n",
    "genre_map[n]"
   ]
  },
  {
   "cell_type": "code",
   "execution_count": 5,
   "metadata": {},
   "outputs": [],
   "source": [
    "import pandas as pd\n",
    "\n",
    "df = pd.read_json(\"data/drama_list.json\")\n",
    "\n",
    "# convert json to csv\n",
    "df.to_csv(\"data/drama_list.csv\", index=False)\n"
   ]
  },
  {
   "cell_type": "code",
   "execution_count": 6,
   "metadata": {},
   "outputs": [
    {
     "data": {
      "text/html": [
       "<div>\n",
       "<style scoped>\n",
       "    .dataframe tbody tr th:only-of-type {\n",
       "        vertical-align: middle;\n",
       "    }\n",
       "\n",
       "    .dataframe tbody tr th {\n",
       "        vertical-align: top;\n",
       "    }\n",
       "\n",
       "    .dataframe thead th {\n",
       "        text-align: right;\n",
       "    }\n",
       "</style>\n",
       "<table border=\"1\" class=\"dataframe\">\n",
       "  <thead>\n",
       "    <tr style=\"text-align: right;\">\n",
       "      <th></th>\n",
       "      <th>adult</th>\n",
       "      <th>backdrop_path</th>\n",
       "      <th>genre_ids</th>\n",
       "      <th>id</th>\n",
       "      <th>origin_country</th>\n",
       "      <th>original_language</th>\n",
       "      <th>original_name</th>\n",
       "      <th>overview</th>\n",
       "      <th>popularity</th>\n",
       "      <th>poster_path</th>\n",
       "      <th>first_air_date</th>\n",
       "      <th>name</th>\n",
       "      <th>vote_average</th>\n",
       "      <th>vote_count</th>\n",
       "    </tr>\n",
       "  </thead>\n",
       "  <tbody>\n",
       "    <tr>\n",
       "      <th>0</th>\n",
       "      <td>False</td>\n",
       "      <td>/5yk3QwnQxzwKfhU1tlDkV2PSIBz.jpg</td>\n",
       "      <td>[18]</td>\n",
       "      <td>219246</td>\n",
       "      <td>[KR]</td>\n",
       "      <td>ko</td>\n",
       "      <td>폭싹 속았수다</td>\n",
       "      <td>In Jeju, a spirited girl and a steadfast boy's...</td>\n",
       "      <td>112.8772</td>\n",
       "      <td>/Afrz3QAcQcsT6w4S5wrKUxmYPWM.jpg</td>\n",
       "      <td>2025-03-07</td>\n",
       "      <td>When Life Gives You Tangerines</td>\n",
       "      <td>9.003</td>\n",
       "      <td>162</td>\n",
       "    </tr>\n",
       "    <tr>\n",
       "      <th>1</th>\n",
       "      <td>False</td>\n",
       "      <td>/2meX1nMdScFOoV4370rqHWKmXhY.jpg</td>\n",
       "      <td>[10759, 9648, 18]</td>\n",
       "      <td>93405</td>\n",
       "      <td>[KR]</td>\n",
       "      <td>ko</td>\n",
       "      <td>오징어 게임</td>\n",
       "      <td>Hundreds of cash-strapped players accept a str...</td>\n",
       "      <td>75.5149</td>\n",
       "      <td>/1QdXdRYfktUSONkl1oD5gc6Be0s.jpg</td>\n",
       "      <td>2021-09-17</td>\n",
       "      <td>Squid Game</td>\n",
       "      <td>7.900</td>\n",
       "      <td>15677</td>\n",
       "    </tr>\n",
       "    <tr>\n",
       "      <th>2</th>\n",
       "      <td>False</td>\n",
       "      <td>/a8a8z4aJr40zYgRMfmSESppX2eO.jpg</td>\n",
       "      <td>[10764, 35]</td>\n",
       "      <td>70672</td>\n",
       "      <td>[KR]</td>\n",
       "      <td>ko</td>\n",
       "      <td>아는 형님</td>\n",
       "      <td>Male celebs play make-believe as high schooler...</td>\n",
       "      <td>58.0235</td>\n",
       "      <td>/2jIi55JtYKJTL1km8qHMuUilOWo.jpg</td>\n",
       "      <td>2015-12-05</td>\n",
       "      <td>Men on a Mission</td>\n",
       "      <td>7.400</td>\n",
       "      <td>33</td>\n",
       "    </tr>\n",
       "    <tr>\n",
       "      <th>3</th>\n",
       "      <td>False</td>\n",
       "      <td>/hQ4GRoPuF3f6whlclxveFoOODnk.jpg</td>\n",
       "      <td>[18, 9648, 10765]</td>\n",
       "      <td>135340</td>\n",
       "      <td>[KR]</td>\n",
       "      <td>ko</td>\n",
       "      <td>해피니스</td>\n",
       "      <td>A new type of deadly virus spread throughout t...</td>\n",
       "      <td>72.1660</td>\n",
       "      <td>/j3Q4Vamcb0p7uoXMkkvIp36oMJe.jpg</td>\n",
       "      <td>2021-11-05</td>\n",
       "      <td>Happiness</td>\n",
       "      <td>8.100</td>\n",
       "      <td>499</td>\n",
       "    </tr>\n",
       "    <tr>\n",
       "      <th>4</th>\n",
       "      <td>False</td>\n",
       "      <td>/uBp9d5J58yzjafKiWsz7cdctmIY.jpg</td>\n",
       "      <td>[10764]</td>\n",
       "      <td>73036</td>\n",
       "      <td>[KR]</td>\n",
       "      <td>ko</td>\n",
       "      <td>냉장고를 부탁해</td>\n",
       "      <td>The best chefs of Korea compete to create impr...</td>\n",
       "      <td>52.1553</td>\n",
       "      <td>/zc7qvd7CVuYpWMXZxuSbhG8n8g1.jpg</td>\n",
       "      <td>2014-11-17</td>\n",
       "      <td>Please Take Care of My Refrigerator</td>\n",
       "      <td>8.500</td>\n",
       "      <td>2</td>\n",
       "    </tr>\n",
       "    <tr>\n",
       "      <th>...</th>\n",
       "      <td>...</td>\n",
       "      <td>...</td>\n",
       "      <td>...</td>\n",
       "      <td>...</td>\n",
       "      <td>...</td>\n",
       "      <td>...</td>\n",
       "      <td>...</td>\n",
       "      <td>...</td>\n",
       "      <td>...</td>\n",
       "      <td>...</td>\n",
       "      <td>...</td>\n",
       "      <td>...</td>\n",
       "      <td>...</td>\n",
       "      <td>...</td>\n",
       "    </tr>\n",
       "    <tr>\n",
       "      <th>391</th>\n",
       "      <td>False</td>\n",
       "      <td>/8qxwlLR8ZZPXhPIgtWkSPch2bnS.jpg</td>\n",
       "      <td>[]</td>\n",
       "      <td>273486</td>\n",
       "      <td>[CN]</td>\n",
       "      <td>zh</td>\n",
       "      <td>最强战士迷你特工队之英雄的诞生</td>\n",
       "      <td></td>\n",
       "      <td>0.1307</td>\n",
       "      <td>/qhmUpsZqEHxoJF3CUnK4dVNimPP.jpg</td>\n",
       "      <td></td>\n",
       "      <td>最强战士迷你特工队之英雄的诞生</td>\n",
       "      <td>0.000</td>\n",
       "      <td>0</td>\n",
       "    </tr>\n",
       "    <tr>\n",
       "      <th>392</th>\n",
       "      <td>False</td>\n",
       "      <td>None</td>\n",
       "      <td>[]</td>\n",
       "      <td>273072</td>\n",
       "      <td>[CN]</td>\n",
       "      <td>zh</td>\n",
       "      <td>下一站幸福</td>\n",
       "      <td></td>\n",
       "      <td>0.1039</td>\n",
       "      <td>/ewgxYFK1lwPXRe1ko4mbPqklhC5.jpg</td>\n",
       "      <td>2024-04-22</td>\n",
       "      <td>下一站幸福</td>\n",
       "      <td>0.000</td>\n",
       "      <td>0</td>\n",
       "    </tr>\n",
       "    <tr>\n",
       "      <th>393</th>\n",
       "      <td>False</td>\n",
       "      <td>/qsH2Vdgj3eSYHTnWiWr2jJNT1Re.jpg</td>\n",
       "      <td>[]</td>\n",
       "      <td>282833</td>\n",
       "      <td>[JP]</td>\n",
       "      <td>zh</td>\n",
       "      <td>ドラゴン桜2</td>\n",
       "      <td></td>\n",
       "      <td>0.0962</td>\n",
       "      <td>/70BwsELorgoGdX8mDo0YsR2gbLP.jpg</td>\n",
       "      <td></td>\n",
       "      <td>ドラゴン桜2</td>\n",
       "      <td>0.000</td>\n",
       "      <td>0</td>\n",
       "    </tr>\n",
       "    <tr>\n",
       "      <th>394</th>\n",
       "      <td>False</td>\n",
       "      <td>/v1bihui37fU9ThGSHUgOh2pEmin.jpg</td>\n",
       "      <td>[99]</td>\n",
       "      <td>132048</td>\n",
       "      <td>[CN]</td>\n",
       "      <td>zh</td>\n",
       "      <td>我粉你</td>\n",
       "      <td>In this five-part documentary series, take a d...</td>\n",
       "      <td>0.0618</td>\n",
       "      <td>/1vSAcmMLPcXL6t6R2prnZnv7i8i.jpg</td>\n",
       "      <td>2021-08-18</td>\n",
       "      <td>My Wiggly Friend</td>\n",
       "      <td>5.500</td>\n",
       "      <td>2</td>\n",
       "    </tr>\n",
       "    <tr>\n",
       "      <th>395</th>\n",
       "      <td>False</td>\n",
       "      <td>None</td>\n",
       "      <td>[18, 9648, 35, 10766]</td>\n",
       "      <td>211847</td>\n",
       "      <td>[KR]</td>\n",
       "      <td>zh</td>\n",
       "      <td>最亲爱的你</td>\n",
       "      <td>When five college students share a house, they...</td>\n",
       "      <td>0.0682</td>\n",
       "      <td>None</td>\n",
       "      <td>2016-07-22</td>\n",
       "      <td>Youth</td>\n",
       "      <td>0.000</td>\n",
       "      <td>0</td>\n",
       "    </tr>\n",
       "  </tbody>\n",
       "</table>\n",
       "<p>396 rows × 14 columns</p>\n",
       "</div>"
      ],
      "text/plain": [
       "     adult                     backdrop_path              genre_ids      id  \\\n",
       "0    False  /5yk3QwnQxzwKfhU1tlDkV2PSIBz.jpg                   [18]  219246   \n",
       "1    False  /2meX1nMdScFOoV4370rqHWKmXhY.jpg      [10759, 9648, 18]   93405   \n",
       "2    False  /a8a8z4aJr40zYgRMfmSESppX2eO.jpg            [10764, 35]   70672   \n",
       "3    False  /hQ4GRoPuF3f6whlclxveFoOODnk.jpg      [18, 9648, 10765]  135340   \n",
       "4    False  /uBp9d5J58yzjafKiWsz7cdctmIY.jpg                [10764]   73036   \n",
       "..     ...                               ...                    ...     ...   \n",
       "391  False  /8qxwlLR8ZZPXhPIgtWkSPch2bnS.jpg                     []  273486   \n",
       "392  False                              None                     []  273072   \n",
       "393  False  /qsH2Vdgj3eSYHTnWiWr2jJNT1Re.jpg                     []  282833   \n",
       "394  False  /v1bihui37fU9ThGSHUgOh2pEmin.jpg                   [99]  132048   \n",
       "395  False                              None  [18, 9648, 35, 10766]  211847   \n",
       "\n",
       "    origin_country original_language    original_name  \\\n",
       "0             [KR]                ko          폭싹 속았수다   \n",
       "1             [KR]                ko           오징어 게임   \n",
       "2             [KR]                ko            아는 형님   \n",
       "3             [KR]                ko             해피니스   \n",
       "4             [KR]                ko         냉장고를 부탁해   \n",
       "..             ...               ...              ...   \n",
       "391           [CN]                zh  最强战士迷你特工队之英雄的诞生   \n",
       "392           [CN]                zh            下一站幸福   \n",
       "393           [JP]                zh           ドラゴン桜2   \n",
       "394           [CN]                zh              我粉你   \n",
       "395           [KR]                zh            最亲爱的你   \n",
       "\n",
       "                                              overview  popularity  \\\n",
       "0    In Jeju, a spirited girl and a steadfast boy's...    112.8772   \n",
       "1    Hundreds of cash-strapped players accept a str...     75.5149   \n",
       "2    Male celebs play make-believe as high schooler...     58.0235   \n",
       "3    A new type of deadly virus spread throughout t...     72.1660   \n",
       "4    The best chefs of Korea compete to create impr...     52.1553   \n",
       "..                                                 ...         ...   \n",
       "391                                                         0.1307   \n",
       "392                                                         0.1039   \n",
       "393                                                         0.0962   \n",
       "394  In this five-part documentary series, take a d...      0.0618   \n",
       "395  When five college students share a house, they...      0.0682   \n",
       "\n",
       "                          poster_path first_air_date  \\\n",
       "0    /Afrz3QAcQcsT6w4S5wrKUxmYPWM.jpg     2025-03-07   \n",
       "1    /1QdXdRYfktUSONkl1oD5gc6Be0s.jpg     2021-09-17   \n",
       "2    /2jIi55JtYKJTL1km8qHMuUilOWo.jpg     2015-12-05   \n",
       "3    /j3Q4Vamcb0p7uoXMkkvIp36oMJe.jpg     2021-11-05   \n",
       "4    /zc7qvd7CVuYpWMXZxuSbhG8n8g1.jpg     2014-11-17   \n",
       "..                                ...            ...   \n",
       "391  /qhmUpsZqEHxoJF3CUnK4dVNimPP.jpg                  \n",
       "392  /ewgxYFK1lwPXRe1ko4mbPqklhC5.jpg     2024-04-22   \n",
       "393  /70BwsELorgoGdX8mDo0YsR2gbLP.jpg                  \n",
       "394  /1vSAcmMLPcXL6t6R2prnZnv7i8i.jpg     2021-08-18   \n",
       "395                              None     2016-07-22   \n",
       "\n",
       "                                    name  vote_average  vote_count  \n",
       "0         When Life Gives You Tangerines         9.003         162  \n",
       "1                             Squid Game         7.900       15677  \n",
       "2                       Men on a Mission         7.400          33  \n",
       "3                              Happiness         8.100         499  \n",
       "4    Please Take Care of My Refrigerator         8.500           2  \n",
       "..                                   ...           ...         ...  \n",
       "391                      最强战士迷你特工队之英雄的诞生         0.000           0  \n",
       "392                                下一站幸福         0.000           0  \n",
       "393                               ドラゴン桜2         0.000           0  \n",
       "394                     My Wiggly Friend         5.500           2  \n",
       "395                                Youth         0.000           0  \n",
       "\n",
       "[396 rows x 14 columns]"
      ]
     },
     "execution_count": 6,
     "metadata": {},
     "output_type": "execute_result"
    }
   ],
   "source": [
    "df"
   ]
  },
  {
   "cell_type": "code",
   "execution_count": 7,
   "metadata": {},
   "outputs": [
    {
     "name": "stdout",
     "output_type": "stream",
     "text": [
      "Memory usage before: 66.6%\n"
     ]
    }
   ],
   "source": [
    "# Check for setting up chromadb connection\n",
    "import psutil\n",
    "print(f\"Memory usage before: {psutil.virtual_memory().percent}%\")"
   ]
  },
  {
   "cell_type": "code",
   "execution_count": 20,
   "metadata": {},
   "outputs": [],
   "source": [
    "import chromadb\n",
    "from chromadb.utils import embedding_functions\n",
    "\n",
    "# setup embedding\n",
    "default_ef = embedding_functions.DefaultEmbeddingFunction()\n",
    "\n",
    "# set up chromadb connection\n",
    "# client = chromadb.EphemeralClient()\n",
    "client = chromadb.PersistentClient()\n",
    "\n",
    "# client.delete_collection('collection')\n",
    "\n",
    "collection = client.get_or_create_collection(\n",
    "    name='collection',\n",
    "    embedding_function=default_ef\n",
    "    )"
   ]
  },
  {
   "cell_type": "code",
   "execution_count": 11,
   "metadata": {},
   "outputs": [],
   "source": [
    "def add_to_db(info, show_id):\n",
    "    collection.add(\n",
    "        documents=[info],                    # store generated info as document\n",
    "        metadatas=[{'show_id': show_id}],   # store show id as metadata\n",
    "        ids=[f'{collection.count() + 1}']\n",
    "    )"
   ]
  },
  {
   "cell_type": "code",
   "execution_count": 12,
   "metadata": {},
   "outputs": [],
   "source": [
    "import csv\n",
    "\n",
    "with open(\"data/drama_list.csv\") as file:\n",
    "    lines = csv.reader(file)\n",
    "\n",
    "    for i, line in enumerate(lines):\n",
    "        # skip first row (column titles)\n",
    "        if i == 0:\n",
    "            continue\n",
    "\n",
    "        # generate document to be stored in ChromaDB\n",
    "        document = f\"The tv show name is: {line[11]}\\n\"\n",
    "        \n",
    "        country = line[5]\n",
    "        if country == \"ko\":\n",
    "            document += f\"The show classifies as: korean drama \\n\"\n",
    "        else:\n",
    "            document += f\"The show classifies as: chinese drama \\n\"\n",
    "\n",
    "        genres = \"\"\n",
    "        genre_ids = line[2].replace(\"[\", \"\").replace(\"]\", \"\")\n",
    "        if len(genre_ids) > 0:\n",
    "            for g in genre_ids.split(\", \"):\n",
    "                genres += f\"{genre_map[g]}, \"\n",
    "        \n",
    "        document += f\"The genre is: {genres}\\nThe air date is: {line[10]}\\n\"\n",
    "        document += f\"The show is about: {line[7]}\\nThe popularity is: {line[8]}\"\n",
    "\n",
    "        # store document in ChromaDB\n",
    "        add_to_db(document, line[3])"
   ]
  },
  {
   "cell_type": "code",
   "execution_count": 13,
   "metadata": {},
   "outputs": [
    {
     "data": {
      "text/plain": [
       "396"
      ]
     },
     "execution_count": 13,
     "metadata": {},
     "output_type": "execute_result"
    }
   ],
   "source": [
    "collection.count()"
   ]
  },
  {
   "cell_type": "code",
   "execution_count": 14,
   "metadata": {},
   "outputs": [],
   "source": [
    "def chromadb_user_query(question):\n",
    "    results = collection.query(\n",
    "        query_texts=[question], # Chroma will embed this for you\n",
    "        n_results=5             # how many results to return\n",
    "    )\n",
    "    return results"
   ]
  },
  {
   "cell_type": "code",
   "execution_count": 15,
   "metadata": {},
   "outputs": [
    {
     "name": "stdout",
     "output_type": "stream",
     "text": [
      "[['The tv show name is: Melo Movie\\nThe show classifies as: korean drama \\nThe genre is: Comedy, Drama, \\nThe air date is: 2025-02-14\\nThe show is about: A movie buff falls for an aspiring director, igniting a romance that fizzles out too soon. When their paths cross again, can love find its way back?\\nThe popularity is: 7.5896', \"The tv show name is: Romance Is a Bonus Book\\nThe show classifies as: korean drama \\nThe genre is: Comedy, Drama, \\nThe air date is: 2019-01-26\\nThe show is about: A gifted writer who's the youngest editor-in-chief ever at his publishing company gets enmeshed in the life of a former copywriter desperate for a job.\\nThe popularity is: 6.0147\", 'The tv show name is: A Love So Beautiful\\nThe show classifies as: chinese drama \\nThe genre is: Comedy, \\nThe air date is: 2017-11-09\\nThe show is about: The ups and downs of school, family and growing up test the affection between a budding artist and her handsome but indifferent classmate and neighbor.\\nThe popularity is: 4.5120000000000005', \"The tv show name is: I Am Married...But!\\nThe show classifies as: chinese drama \\nThe genre is: Comedy, Drama, Family, \\nThe air date is: 2025-02-14\\nThe show is about: After a meet-cute ends in a whirlwind romance, a couple must learn to navigate the messy reality of married life that's nothing like a fairy tale ending.\\nThe popularity is: 4.3658\", 'The tv show name is: Just Between Lovers\\nThe show classifies as: korean drama \\nThe genre is: Drama, \\nThe air date is: 2017-12-11\\nThe show is about: Two survivors of a building collapse discover support and love in each other as they overcome the pain of loss and reconstruct a hopeful future.\\nThe popularity is: 4.6961']]\n"
     ]
    }
   ],
   "source": [
    "# q = \"what are some popular chinese dramas?\"\n",
    "q = \"I am looking for comedy romance dramas that will make my heart flutter.\"\n",
    "top_matches = chromadb_user_query(q)\n",
    "print(top_matches['documents'])"
   ]
  },
  {
   "cell_type": "code",
   "execution_count": 45,
   "metadata": {},
   "outputs": [
    {
     "data": {
      "text/plain": [
       "'85220'"
      ]
     },
     "execution_count": 45,
     "metadata": {},
     "output_type": "execute_result"
    }
   ],
   "source": [
    "res = top_matches['metadatas'][0][1]\n",
    "res[\"show_id\"]"
   ]
  },
  {
   "cell_type": "code",
   "execution_count": 19,
   "metadata": {},
   "outputs": [
    {
     "data": {
      "text/plain": [
       "'[\\'The tv show name is: Melo Movie\\\\nThe show classifies as: korean drama \\\\nThe genre is: Comedy, Drama, \\\\nThe air date is: 2025-02-14\\\\nThe show is about: A movie buff falls for an aspiring director, igniting a romance that fizzles out too soon. When their paths cross again, can love find its way back?\\\\nThe popularity is: 7.5896\\', \"The tv show name is: Romance Is a Bonus Book\\\\nThe show classifies as: korean drama \\\\nThe genre is: Comedy, Drama, \\\\nThe air date is: 2019-01-26\\\\nThe show is about: A gifted writer who\\'s the youngest editor-in-chief ever at his publishing company gets enmeshed in the life of a former copywriter desperate for a job.\\\\nThe popularity is: 6.0147\", \\'The tv show name is: A Love So Beautiful\\\\nThe show classifies as: chinese drama \\\\nThe genre is: Comedy, \\\\nThe air date is: 2017-11-09\\\\nThe show is about: The ups and downs of school, family and growing up test the affection between a budding artist and her handsome but indifferent classmate and neighbor.\\\\nThe popularity is: 4.5120000000000005\\', \"The tv show name is: I Am Married...But!\\\\nThe show classifies as: chinese drama \\\\nThe genre is: Comedy, Drama, Family, \\\\nThe air date is: 2025-02-14\\\\nThe show is about: After a meet-cute ends in a whirlwind romance, a couple must learn to navigate the messy reality of married life that\\'s nothing like a fairy tale ending.\\\\nThe popularity is: 4.3658\", \\'The tv show name is: Just Between Lovers\\\\nThe show classifies as: korean drama \\\\nThe genre is: Drama, \\\\nThe air date is: 2017-12-11\\\\nThe show is about: Two survivors of a building collapse discover support and love in each other as they overcome the pain of loss and reconstruct a hopeful future.\\\\nThe popularity is: 4.6961\\']'"
      ]
     },
     "execution_count": 19,
     "metadata": {},
     "output_type": "execute_result"
    }
   ],
   "source": [
    "example_result = open(\"data/example.txt\", \"r\")\n",
    "m = example_result.read()\n",
    "m"
   ]
  },
  {
   "cell_type": "code",
   "execution_count": 55,
   "metadata": {},
   "outputs": [
    {
     "data": {
      "text/plain": [
       "5"
      ]
     },
     "execution_count": 55,
     "metadata": {},
     "output_type": "execute_result"
    }
   ],
   "source": [
    "temp = [{'show_id': '219246', 'synopsis': 'Summary: \"When Life Gives You Tangerines\" follows the story of a spirited girl and a steadfast boy on Jeju Island as they navigate life\\'s challenges and joys, showcasing the enduring power of love over time.\\n\\nRecommendation: Fans of heartwarming K-dramas with a mix of romance and drama will enjoy \"When Life Gives You Tangerines.\" Set against the beautiful backdrop of Jeju Island, this series is a must-watch for those who appreciate stories of love, resilience, and personal growth. Get ready to be swept away by the touching tale of two individuals facing life\\'s obstacles together.'}, {'show_id': '73036', 'synopsis': \"Title: Please Take Care of My Refrigerator\\n\\nSummary: Watch as Korea's top chefs battle it out to create delicious dishes using only the ingredients they find in celebrities' refrigerators. \\n\\nRecommendation: If you enjoy reality shows with a culinary twist and love seeing creativity in action, this show is perfect for you. Get ready to be amazed by the unique dishes these chefs come up with!\"}, {'show_id': '135340', 'synopsis': 'Title: Happiness\\n\\nSummary: In the midst of a deadly virus outbreak, residents from different social classes are forced to coexist in a sealed-off apartment complex. As tensions rise and fear spreads, they must navigate survival and societal conflicts.\\n\\nRecommendation: Fans of suspenseful dramas with a touch of mystery and sci-fi elements will be drawn to \"Happiness.\" Get ready for a thrilling ride as you watch the residents struggle to survive and overcome their differences in this gripping K-drama.'}, {'show_id': '233686', 'synopsis': 'Summary:\\n\"Get ready for a gripping tale of karma and crime in the Korean drama \\'Karma.\\' Six lives are forever changed after a fateful accident, leading them to confront their past and face their darkest truths.\"\\n\\nRecommendation:\\n\"Fans of crime dramas and thrilling mysteries will be captivated by the intertwining storylines and suspenseful twists in \\'Karma.\\' Make sure to mark your calendars for the premiere on April 4th, 2025!\"'}, {'show_id': '70672', 'synopsis': \"Summary: Men on a Mission is a hilarious reality show where male celebrities pretend to be high school students and compete in funny challenges each week. With witty humor and silly antics, it's perfect for fans of comedy and reality TV.\\n\\nRecommendation: If you enjoy light-hearted humor and watching celebrities let loose, Men on a Mission is the perfect show for you. Get ready to laugh out loud as these stars engage in playful competitions and showcase their comedic talents. Grab some popcorn and get ready for a fun and entertaining ride!\"}]\n",
    "len(temp)\n",
    "\n",
    "# for id, syn in temp[0]:\n",
    "#     print(f'id: {id}, syn: {syn}')"
   ]
  }
 ],
 "metadata": {
  "kernelspec": {
   "display_name": "Python 3",
   "language": "python",
   "name": "python3"
  },
  "language_info": {
   "codemirror_mode": {
    "name": "ipython",
    "version": 3
   },
   "file_extension": ".py",
   "mimetype": "text/x-python",
   "name": "python",
   "nbconvert_exporter": "python",
   "pygments_lexer": "ipython3",
   "version": "3.9.7"
  }
 },
 "nbformat": 4,
 "nbformat_minor": 2
}
